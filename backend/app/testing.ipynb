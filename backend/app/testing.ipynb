{
  "nbformat": 4,
  "nbformat_minor": 0,
  "metadata": {
    "colab": {
      "provenance": []
    },
    "kernelspec": {
      "name": "python3",
      "display_name": "Python 3"
    },
    "language_info": {
      "name": "python"
    }
  },
  "cells": [
    {
      "cell_type": "code",
      "source": [
        "# Function for custom input and prediction\n",
        "def input_data():\n",
        "    # Prompt user to input values for each feature\n",
        "    input_values = {\n",
        "        'Day of Week': input(\"Enter Day of Week (e.g., Monday): \"),\n",
        "        'Breakfast Dish': input(\"Enter Breakfast Dish (e.g., Eggs): \"),\n",
        "        'Dish1_Name': input(\"Enter Dish1 Name (e.g., Chicken Curry): \"),\n",
        "        'Dish2_Name': input(\"Enter Dish2 Name (e.g., Rice): \"),\n",
        "        'Staples1': input(\"Enter Staple1 (e.g., Bread): \"),\n",
        "        'Staples2': input(\"Enter Staple2 (e.g., Roti): \"),\n",
        "        'Dessert': input(\"Enter Dessert (e.g., Ice Cream): \"),\n",
        "        'Expected Diners': float(input(\"Enter Expected Diners (e.g., 100): \")),\n",
        "        'Meal Type': input(\"Enter Meal Type (e.g., Lunch or Dinner): \")\n",
        "    }\n",
        "\n",
        "    # Convert input to DataFrame\n",
        "    input_df = pd.DataFrame([input_values])\n",
        "\n",
        "    # Load the trained model\n",
        "    model = joblib.load('food_waste_suggestion_model.pkl')\n",
        "\n",
        "    # Make prediction\n",
        "    prediction = model.predict(input_df)\n",
        "    suggestion = dict(zip(target_columns, prediction[0]))\n",
        "\n",
        "    print(\"Suggested Quantities for Minimal Waste:\")\n",
        "    for dish, quantity in suggestion.items():\n",
        "        print(f\"{dish}: {quantity:.2f} kg\")\n",
        "\n",
        "# Test with custom input\n",
        "input_data()"
      ],
      "metadata": {
        "colab": {
          "base_uri": "https://localhost:8080/"
        },
        "id": "F9fn_FVlX_9M",
        "outputId": "a675d9c7-5e6d-4342-ab40-a20de8591542"
      },
      "execution_count": 11,
      "outputs": [
        {
          "output_type": "stream",
          "name": "stdout",
          "text": [
            "Enter Day of Week (e.g., Monday): monday\n",
            "Enter Breakfast Dish (e.g., Eggs): poha\n",
            "Enter Dish1 Name (e.g., Chicken Curry): chole\n",
            "Enter Dish2 Name (e.g., Rice): dal tadka\n",
            "Enter Staple1 (e.g., Bread): rice\n",
            "Enter Staple2 (e.g., Roti): naan\n",
            "Enter Dessert (e.g., Ice Cream): jalebi\n",
            "Enter Expected Diners (e.g., 100): 80\n",
            "Enter Meal Type (e.g., Lunch or Dinner): dinner\n",
            "Suggested Quantities for Minimal Waste:\n",
            "Dish1_Quantity_Made (kg): 21.15 kg\n",
            "Dish2_Quantity_Made (kg): 19.04 kg\n",
            "Staples1_Quantity_Made (kg): 80.53 kg\n",
            "Staples2_Quantity_Made (kg): 75.75 kg\n"
          ]
        }
      ]
    }
  ]
}