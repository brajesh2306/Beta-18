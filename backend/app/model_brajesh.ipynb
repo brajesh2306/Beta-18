{
 "cells": [
  {
   "cell_type": "code",
   "execution_count": 34,
   "metadata": {},
   "outputs": [],
   "source": [
    "import pandas as pd\n",
    "from sklearn.pipeline import Pipeline\n",
    "from sklearn.compose import ColumnTransformer\n",
    "from sklearn.preprocessing import OneHotEncoder\n",
    "from sklearn.impute import SimpleImputer\n",
    "from sklearn.preprocessing import MinMaxScaler\n",
    "from sklearn.ensemble import RandomForestClassifier\n",
    "from sklearn.model_selection import train_test_split\n",
    "from sklearn.metrics import classification_report\n"
   ]
  },
  {
   "cell_type": "code",
   "execution_count": 42,
   "metadata": {},
   "outputs": [
    {
     "ename": "SyntaxError",
     "evalue": "invalid non-printable character U+00A0 (2433865383.py, line 54)",
     "output_type": "error",
     "traceback": [
      "\u001b[1;36m  Cell \u001b[1;32mIn[42], line 54\u001b[1;36m\u001b[0m\n\u001b[1;33m    print(classification_report(y_test, y_pred))\u001b[0m\n\u001b[1;37m                                       ^\u001b[0m\n\u001b[1;31mSyntaxError\u001b[0m\u001b[1;31m:\u001b[0m invalid non-printable character U+00A0\n"
     ]
    }
   ],
   "source": [
    "\n",
    "# Load the dataset\n",
    "data = pd.read_csv('food_wastage_dataset_with_output.csv')\n",
    "\n",
    "# Select only the necessary features\n",
    "selected_features = ['Day of Week', 'Breakfast Dish', 'Dish1_Name', 'Dish2_Name', \n",
    "                     'Dish3_Name', 'Staples1', 'Dessert', 'Expected Diners', 'Meal Type']\n",
    "data = data[selected_features + ['Output']]  # Keep only the selected features and target column\n",
    "\n",
    "# Define feature set and target variable\n",
    "X = data[selected_features]\n",
    "y = data['Output']\n",
    "\n",
    "# Identify numerical and categorical features\n",
    "numerical_features = ['Expected Diners']  # Only 'Expected Diners' is assumed to be numerical\n",
    "categorical_features = [\n",
    "    'Day of Week', 'Breakfast Dish', 'Dish1_Name', 'Dish2_Name', 'Dish3_Name', \n",
    "    'Staples1', 'Dessert', 'Meal Type'\n",
    "]\n",
    "\n",
    "# Define the numeric and categorical transformers\n",
    "numeric_transform = Pipeline(steps=[\n",
    "    ('imputer', SimpleImputer(strategy='mean')),\n",
    "    ('scaler', MinMaxScaler())\n",
    "])\n",
    "\n",
    "categorical_transform = Pipeline(steps=[\n",
    "    ('imputer', SimpleImputer(strategy='constant', fill_value='missing')),\n",
    "    ('onehot', OneHotEncoder(handle_unknown='ignore'))\n",
    "])\n",
    "\n",
    "# Create the preprocessor\n",
    "preprocessor = ColumnTransformer(transformers=[\n",
    "    ('num', numeric_transform, numerical_features),\n",
    "    ('cat', categorical_transform, categorical_features)\n",
    "])\n",
    "\n",
    "# Define the model\n",
    "model = RandomForestClassifier(random_state=42)\n",
    "\n",
    "# Create the pipeline\n",
    "pipeline = Pipeline(steps=[\n",
    "    ('preprocessor', preprocessor),\n",
    "    ('classifier', model)\n",
    "])\n",
    "\n",
    "# Split the dataset into training and testing sets\n",
    "x_train, x_test, y_train, y_test = train_test_split(X, y, test_size=0.2, random_state=42)\n",
    "\n",
    "# Fit the pipeline\n",
    "pipeline.fit(x_train, y_train)\n",
    "\n",
    "# Make predictions and evaluate\n",
    "y_pred = pipeline.predict(x_test)\n",
    "print(classification_report(y_test, y_pred))"
   ]
  },
  {
   "cell_type": "code",
   "execution_count": 36,
   "metadata": {},
   "outputs": [],
   "source": [
    "# Save the model to a pickle file\n",
    "with open('food_wastage_model.pkl', 'wb') as model_file:\n",
    "    pickle.dump(pipeline, model_file)"
   ]
  },
  {
   "cell_type": "markdown",
   "metadata": {},
   "source": [
    "# -----------------------------------------------------------------------------------------------------------------------"
   ]
  },
  {
   "cell_type": "markdown",
   "metadata": {},
   "source": [
    "# information"
   ]
  },
  {
   "cell_type": "code",
   "execution_count": 24,
   "metadata": {},
   "outputs": [
    {
     "data": {
      "text/plain": [
       "Index(['Day of Week', 'Breakfast Dish', 'Breakfast Quantity Made (kg)',\n",
       "       'Breakfast Quantity Consumed (kg)', 'Breakfast Quantity Wasted (kg)',\n",
       "       'Dish1_Name', 'Dish1_Quantity_Made (kg)',\n",
       "       'Dish1_Quantity_Consumed (kg)', 'Dish1_Quantity_Wasted (kg)',\n",
       "       'Dish2_Name', 'Dish2_Quantity_Made (kg)',\n",
       "       'Dish2_Quantity_Consumed (kg)', 'Dish2_Quantity_Wasted (kg)',\n",
       "       'Dish3_Name', 'Dish3_Quantity_Made (kg)',\n",
       "       'Dish3_Quantity_Consumed (kg)', 'Dish3_Quantity_Wasted (kg)',\n",
       "       'Staples1', 'Staples1_Quantity_Made (kg)',\n",
       "       'Staples1_Quantity_Consumed (kg)', 'Staples1_Quantity_Wasted (kg)',\n",
       "       'Dessert', 'Expected Diners', 'Avg Portion (kg)', 'Satisfaction Score',\n",
       "       'Historical_Trend', 'Seasonal_Preference', 'Preferred Dish',\n",
       "       'Meal Type', 'Lunch/Dinner Expected Diners',\n",
       "       'Avg Portion Lunch/Dinner (kg)', 'Quantity Made Lunch/Dinner (kg)',\n",
       "       'Adjusted Quantity Made Lunch/Dinner (kg)',\n",
       "       'Quantity Consumed Lunch/Dinner (kg)',\n",
       "       'Quantity Wasted Lunch/Dinner (kg)', 'Calories (per serving)',\n",
       "       'Nutrient Value (Protein/Fiber)', 'Preference for Dish1',\n",
       "       'Preference for Dish2', 'Food Cost (INR)',\n",
       "       'Surplus Redistribution Potential', 'Notes for the Day',\n",
       "       'Total Food Waste (kg)', 'Output'],\n",
       "      dtype='object')"
      ]
     },
     "execution_count": 24,
     "metadata": {},
     "output_type": "execute_result"
    }
   ],
   "source": [
    "data.columns"
   ]
  },
  {
   "cell_type": "code",
   "execution_count": 19,
   "metadata": {},
   "outputs": [
    {
     "data": {
      "text/plain": [
       "array(['Dosa', 'Baingan Bharta', 'Idli', 'Paneer Butter Masala', 'Rajma',\n",
       "       'Pav Bhaji', 'Kheer', 'Dal Tadka', 'Aloo Gobi', 'Roti', 'Naan',\n",
       "       'Chole', 'Paratha', 'Gulab Jamun', 'Jalebi'], dtype=object)"
      ]
     },
     "execution_count": 19,
     "metadata": {},
     "output_type": "execute_result"
    }
   ],
   "source": [
    "data['Breakfast Dish'].unique()"
   ]
  },
  {
   "cell_type": "code",
   "execution_count": 21,
   "metadata": {},
   "outputs": [
    {
     "data": {
      "text/plain": [
       "array(['Pav Bhaji', 'Idli', 'Kheer', 'Aloo Gobi', 'Naan', 'Gulab Jamun',\n",
       "       'Roti', 'Dosa', 'Rajma', 'Dal Tadka', 'Baingan Bharta', 'Jalebi',\n",
       "       'Paneer Butter Masala', 'Paratha', 'Chole'], dtype=object)"
      ]
     },
     "execution_count": 21,
     "metadata": {},
     "output_type": "execute_result"
    }
   ],
   "source": [
    "data['Dish1_Name'].unique()"
   ]
  },
  {
   "cell_type": "code",
   "execution_count": 22,
   "metadata": {},
   "outputs": [
    {
     "data": {
      "text/plain": [
       "array(['Naan', 'Kheer', 'Gulab Jamun', 'Rajma', 'Pav Bhaji', 'Roti',\n",
       "       'Paneer Butter Masala', 'Chole', 'Idli', 'Paratha', 'Dosa',\n",
       "       'Jalebi', 'Dal Tadka', 'Baingan Bharta', 'Aloo Gobi'], dtype=object)"
      ]
     },
     "execution_count": 22,
     "metadata": {},
     "output_type": "execute_result"
    }
   ],
   "source": [
    "data['Dish2_Name'].unique()"
   ]
  },
  {
   "cell_type": "code",
   "execution_count": 23,
   "metadata": {},
   "outputs": [
    {
     "data": {
      "text/plain": [
       "array(['Naan', 'Paneer Butter Masala', 'Paratha', 'Idli', 'Dosa', 'Rajma',\n",
       "       'Roti', 'Kheer', 'Gulab Jamun', 'Dal Tadka', 'Aloo Gobi', 'Chole',\n",
       "       'Jalebi', 'Baingan Bharta', 'Pav Bhaji'], dtype=object)"
      ]
     },
     "execution_count": 23,
     "metadata": {},
     "output_type": "execute_result"
    }
   ],
   "source": [
    "data['Dish3_Name'].unique()"
   ]
  },
  {
   "cell_type": "code",
   "execution_count": 25,
   "metadata": {},
   "outputs": [
    {
     "data": {
      "text/plain": [
       "array(['Dal Tadka', 'Chole', 'Baingan Bharta', 'Jalebi', 'Naan', 'Rajma',\n",
       "       'Pav Bhaji', 'Roti', 'Aloo Gobi', 'Dosa', 'Idli', 'Paratha',\n",
       "       'Gulab Jamun', 'Kheer', 'Paneer Butter Masala'], dtype=object)"
      ]
     },
     "execution_count": 25,
     "metadata": {},
     "output_type": "execute_result"
    }
   ],
   "source": [
    "data['Staples1'].unique()"
   ]
  },
  {
   "cell_type": "code",
   "execution_count": 27,
   "metadata": {},
   "outputs": [
    {
     "data": {
      "text/plain": [
       "array(['Chole', 'Dosa', 'Roti', 'Naan', 'Aloo Gobi', 'Baingan Bharta',\n",
       "       'Dal Tadka', 'Rajma', 'Idli', 'Jalebi', 'Pav Bhaji', 'Kheer',\n",
       "       'Paratha', 'Paneer Butter Masala', 'Gulab Jamun'], dtype=object)"
      ]
     },
     "execution_count": 27,
     "metadata": {},
     "output_type": "execute_result"
    }
   ],
   "source": [
    "data['Dessert'].unique()"
   ]
  },
  {
   "cell_type": "code",
   "execution_count": 28,
   "metadata": {},
   "outputs": [
    {
     "data": {
      "text/plain": [
       "array(['Lunch', 'Breakfast', 'Dinner'], dtype=object)"
      ]
     },
     "execution_count": 28,
     "metadata": {},
     "output_type": "execute_result"
    }
   ],
   "source": [
    "data['Meal Type'].unique()\n"
   ]
  },
  {
   "cell_type": "code",
   "execution_count": null,
   "metadata": {},
   "outputs": [],
   "source": []
  }
 ],
 "metadata": {
  "kernelspec": {
   "display_name": "Python 3",
   "language": "python",
   "name": "python3"
  },
  "language_info": {
   "codemirror_mode": {
    "name": "ipython",
    "version": 3
   },
   "file_extension": ".py",
   "mimetype": "text/x-python",
   "name": "python",
   "nbconvert_exporter": "python",
   "pygments_lexer": "ipython3",
   "version": "3.12.2"
  }
 },
 "nbformat": 4,
 "nbformat_minor": 2
}
